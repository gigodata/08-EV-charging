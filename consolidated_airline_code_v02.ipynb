{
 "cells": [
  {
   "cell_type": "markdown",
   "id": "c3bcfaad",
   "metadata": {},
   "source": [
    "# First Consolidated Code for Group v02 2023-11-02"
   ]
  },
  {
   "cell_type": "code",
   "execution_count": null,
   "id": "276cd74d",
   "metadata": {},
   "outputs": [],
   "source": [
    "## Consolidate code from Adrian, Amanda, & Zachary into one document\n",
    "\n",
    "## Code review together to eliminate redundancies and optimise\n",
    "## 1. Pulling in data from TSV file\n",
    "## 2. ETL: Order into DataFrame and arrange columns & calculated columns\n",
    "## 3. Comment consolidated code\n",
    "## 4. Make notes on existing charts and determine their value-add to presentation"
   ]
  },
  {
   "cell_type": "code",
   "execution_count": null,
   "id": "328a2fd1",
   "metadata": {},
   "outputs": [],
   "source": []
  },
  {
   "cell_type": "markdown",
   "id": "a5bda1da",
   "metadata": {},
   "source": [
    "# Adrian Code"
   ]
  },
  {
   "cell_type": "code",
   "execution_count": null,
   "id": "3cb4a0c7",
   "metadata": {},
   "outputs": [],
   "source": []
  },
  {
   "cell_type": "markdown",
   "id": "6ad12da3",
   "metadata": {},
   "source": [
    "## adrian_starter_code_v01.ipynb"
   ]
  },
  {
   "cell_type": "markdown",
   "id": "e25a8dc5",
   "metadata": {},
   "source": [
    "## Airline Analysis - Project 1 - Adrian Santos  \n",
    "#### Last updated: 2023-11-01 -- v0.1"
   ]
  },
  {
   "cell_type": "markdown",
   "id": "42353ab5",
   "metadata": {},
   "source": [
    "### Import data file, process loaded in DataFrame, scrub for nulls, recast date variable, & reorder columns"
   ]
  },
  {
   "cell_type": "code",
   "execution_count": null,
   "id": "b75bbee8",
   "metadata": {},
   "outputs": [],
   "source": [
    "# Initial set-up - Import libraries\n",
    "import pandas as pd"
   ]
  },
  {
   "cell_type": "code",
   "execution_count": null,
   "id": "0e3f8de7",
   "metadata": {},
   "outputs": [],
   "source": [
    "# Load airline route data into DataFrame - define datatype for integers\n",
    "df = pd.read_table('./Resources/flight_edges.tsv', \n",
    "     names=['Origin Airport', \n",
    "            'Destination Airport', \n",
    "            'Origin City', \n",
    "            'Destination City',                                          \n",
    "            'Passengers', \n",
    "            'Seats', \n",
    "            'Flights', \n",
    "            'Distance', \n",
    "            'Fly Date', \n",
    "            'Origin Population', \n",
    "            'Destination Population',\n",
    "           ],\n",
    "     dtype={'Passengers': int, \n",
    "            'Seats': int, \n",
    "            'Flights': int, \n",
    "            'Distance': int, \n",
    "            'Fly Date': str, \n",
    "            'Origin Population': int, \n",
    "            'Destination Population': int\n",
    "           },\n",
    "     chunksize=1000000\n",
    "                  )"
   ]
  },
  {
   "cell_type": "code",
   "execution_count": null,
   "id": "4852e87a",
   "metadata": {},
   "outputs": [],
   "source": [
    "# Recast 'Fly Date' from YYYYMM format to separate columns of 'Month' and 'Year'\n",
    "def flydate_recast(date:str):\n",
    "    date = list(date)\n",
    "    monthList = date[-2:]\n",
    "    month = ''\n",
    "    month = month.join(monthList)\n",
    "    month = str(month)\n",
    "    yearList = date[:4]\n",
    "    year = ''\n",
    "    year = year.join(yearList)\n",
    "    year = str(year)\n",
    "    return month, year"
   ]
  },
  {
   "cell_type": "code",
   "execution_count": null,
   "id": "21ff2769",
   "metadata": {},
   "outputs": [],
   "source": [
    "# Create an empty list to store the chunks of 1,000,000 rows at a time\n",
    "chunks = []"
   ]
  },
  {
   "cell_type": "code",
   "execution_count": null,
   "id": "1a388d17",
   "metadata": {},
   "outputs": [],
   "source": [
    "# Iterate over each chunk of data\n",
    "for chunk in df:\n",
    "    \n",
    "    # Drop rows with null values\n",
    "    chunk.dropna(inplace=True)\n",
    "    \n",
    "    # Recast 'Fly Date' from YYYYMM format to columns for 'Month' and 'Year'\n",
    "    chunk[['Month', 'Year']] = chunk['Fly Date'].apply(lambda x: pd.Series(flydate_recast(x)))\n",
    "    \n",
    "    # Append the modified chunk to the list\n",
    "    chunks.append(chunk)"
   ]
  },
  {
   "cell_type": "code",
   "execution_count": null,
   "id": "c2b0079f",
   "metadata": {},
   "outputs": [],
   "source": [
    "# Concatenate all of the chunks into one DataFrame\n",
    "df = pd.concat(chunks)"
   ]
  },
  {
   "cell_type": "code",
   "execution_count": null,
   "id": "12cb14f3",
   "metadata": {},
   "outputs": [],
   "source": [
    "# Return the number of rows and columns in the DataFrame\n",
    "df.shape"
   ]
  },
  {
   "cell_type": "code",
   "execution_count": null,
   "id": "5f0100e6",
   "metadata": {},
   "outputs": [],
   "source": [
    "# Reorder column order so 'Month' and 'Year' are repositioned to come after 'Fly Date'\n",
    "column_reorder = ['Origin Airport', \n",
    "             'Destination Airport', \n",
    "             'Origin City', \n",
    "             'Destination City', \n",
    "             'Passengers', \n",
    "             'Seats', \n",
    "             'Flights', \n",
    "             'Distance', \n",
    "             'Fly Date', \n",
    "             'Month', \n",
    "             'Year', \n",
    "             'Origin Population', \n",
    "             'Destination Population'\n",
    "            ]\n",
    "df = df.reindex(columns=column_reorder)"
   ]
  },
  {
   "cell_type": "code",
   "execution_count": null,
   "id": "5418e1c1",
   "metadata": {},
   "outputs": [],
   "source": [
    "# Return updated DataFrame\n",
    "df.head()"
   ]
  },
  {
   "cell_type": "markdown",
   "id": "97ea54fc",
   "metadata": {},
   "source": [
    "## Scrubbed DataFrame in place --  Begin preliminary analyses"
   ]
  },
  {
   "cell_type": "code",
   "execution_count": null,
   "id": "8edc7bf6",
   "metadata": {},
   "outputs": [],
   "source": [
    "# Step 01 - Perform exploratory analysis by aggregating on various attributes"
   ]
  },
  {
   "cell_type": "code",
   "execution_count": null,
   "id": "4e6dc802",
   "metadata": {},
   "outputs": [],
   "source": [
    "# NOTES: "
   ]
  },
  {
   "cell_type": "code",
   "execution_count": null,
   "id": "600c3d74",
   "metadata": {},
   "outputs": [],
   "source": []
  },
  {
   "cell_type": "markdown",
   "id": "72fe7145",
   "metadata": {},
   "source": [
    "# Amanda Code"
   ]
  },
  {
   "cell_type": "markdown",
   "id": "de7dad2b",
   "metadata": {},
   "source": [
    "## Top 10 Routes.ipynb"
   ]
  },
  {
   "cell_type": "code",
   "execution_count": null,
   "id": "3e61542d",
   "metadata": {},
   "outputs": [],
   "source": [
    "#Imporing Libs\n",
    "import pandas as pd\n",
    "import matplotlib.pyplot as plt\n",
    "import numpy as np"
   ]
  },
  {
   "cell_type": "code",
   "execution_count": null,
   "id": "bdb81323",
   "metadata": {},
   "outputs": [],
   "source": [
    "#Reorganizing and renaming Columns as a new Data frame\n",
    "df = pd.read_table('flight_edges.tsv', names=['Origin Airport', 'Destination Airport', 'Origin City', 'Destination City', \n",
    "                                                          'Passengers', 'Seats', 'Flights', 'Distance', 'Fly Date', 'Origin Population', 'Destination Population'])\n",
    "df.head()"
   ]
  },
  {
   "cell_type": "code",
   "execution_count": null,
   "id": "2b18ef55",
   "metadata": {},
   "outputs": [],
   "source": [
    "#Grabing route and destination Data\n",
    "df[\"Route\"] = df[\"Origin Airport\"] + \"_\" + df[\"Destination Airport\"]\n",
    "\n",
    "#Reorganizing passanger count by route\n",
    "passenger_count = df[[\"Route\", \"Passengers\"]].groupby(\"Route\").sum().sort_values(\"Passengers\", ascending=False)\n",
    "\n",
    "#merge approprate columns with newly calc data\n",
    "demand = passenger_count.merge(df[[\"Route\", \"Origin Airport\", \"Origin City\", \"Destination Airport\", \"Destination City\"]], on=\"Route\", how=\"inner\").groupby(\"Route\").first().sort_values(\"Passengers\", ascending=False)\n",
    "demand.head(10)"
   ]
  },
  {
   "cell_type": "code",
   "execution_count": null,
   "id": "79efe69d",
   "metadata": {},
   "outputs": [],
   "source": [
    "# NOTES: "
   ]
  },
  {
   "cell_type": "code",
   "execution_count": null,
   "id": "58cd6213",
   "metadata": {},
   "outputs": [],
   "source": []
  },
  {
   "cell_type": "markdown",
   "id": "80f83753",
   "metadata": {},
   "source": [
    "# Zachary Code"
   ]
  },
  {
   "cell_type": "markdown",
   "id": "091e77a9",
   "metadata": {},
   "source": [
    "## Data Cleanup.ipynb"
   ]
  },
  {
   "cell_type": "code",
   "execution_count": 1,
   "id": "8fec4bcf",
   "metadata": {},
   "outputs": [],
   "source": [
    "#Imporing Libs\n",
    "import pandas as pd\n",
    "import datetime as dt"
   ]
  },
  {
   "cell_type": "code",
   "execution_count": 2,
   "id": "252e4229",
   "metadata": {},
   "outputs": [
    {
     "ename": "FileNotFoundError",
     "evalue": "[Errno 2] No such file or directory: './Resources/flight_edges.tsv'",
     "output_type": "error",
     "traceback": [
      "\u001b[1;31m---------------------------------------------------------------------------\u001b[0m",
      "\u001b[1;31mFileNotFoundError\u001b[0m                         Traceback (most recent call last)",
      "\u001b[1;32mc:\\Users\\macks\\Documents\\08-project1\\consolidated_airline_code_v02.ipynb Cell 32\u001b[0m line \u001b[0;36m2\n\u001b[0;32m      <a href='vscode-notebook-cell:/c%3A/Users/macks/Documents/08-project1/consolidated_airline_code_v02.ipynb#X43sZmlsZQ%3D%3D?line=0'>1</a>\u001b[0m \u001b[39m#Reordering and Naming columns\u001b[39;00m\n\u001b[1;32m----> <a href='vscode-notebook-cell:/c%3A/Users/macks/Documents/08-project1/consolidated_airline_code_v02.ipynb#X43sZmlsZQ%3D%3D?line=1'>2</a>\u001b[0m df \u001b[39m=\u001b[39m pd\u001b[39m.\u001b[39mread_table(\u001b[39m'\u001b[39m\u001b[39m./Resources/flight_edges.tsv\u001b[39m\u001b[39m'\u001b[39m, names\u001b[39m=\u001b[39m[\u001b[39m'\u001b[39m\u001b[39mOrigin Airport\u001b[39m\u001b[39m'\u001b[39m, \u001b[39m'\u001b[39m\u001b[39mDestination Airport\u001b[39m\u001b[39m'\u001b[39m, \u001b[39m'\u001b[39m\u001b[39mOrigin City\u001b[39m\u001b[39m'\u001b[39m, \u001b[39m'\u001b[39m\u001b[39mDestination City\u001b[39m\u001b[39m'\u001b[39m, \n\u001b[0;32m      <a href='vscode-notebook-cell:/c%3A/Users/macks/Documents/08-project1/consolidated_airline_code_v02.ipynb#X43sZmlsZQ%3D%3D?line=2'>3</a>\u001b[0m                                                           \u001b[39m'\u001b[39m\u001b[39mPassangers\u001b[39m\u001b[39m'\u001b[39m, \u001b[39m'\u001b[39m\u001b[39mSeats\u001b[39m\u001b[39m'\u001b[39m, \u001b[39m'\u001b[39m\u001b[39mFlights\u001b[39m\u001b[39m'\u001b[39m, \u001b[39m'\u001b[39m\u001b[39mDistance\u001b[39m\u001b[39m'\u001b[39m, \u001b[39m'\u001b[39m\u001b[39mFly Date\u001b[39m\u001b[39m'\u001b[39m, \u001b[39m'\u001b[39m\u001b[39mOrigin Population\u001b[39m\u001b[39m'\u001b[39m, \u001b[39m'\u001b[39m\u001b[39mDestination Population\u001b[39m\u001b[39m'\u001b[39m])\n\u001b[0;32m      <a href='vscode-notebook-cell:/c%3A/Users/macks/Documents/08-project1/consolidated_airline_code_v02.ipynb#X43sZmlsZQ%3D%3D?line=3'>4</a>\u001b[0m df\u001b[39m.\u001b[39mhead()\n",
      "File \u001b[1;32mc:\\Users\\macks\\anaconda3\\envs\\dev\\Lib\\site-packages\\pandas\\io\\parsers\\readers.py:1242\u001b[0m, in \u001b[0;36mread_table\u001b[1;34m(filepath_or_buffer, sep, delimiter, header, names, index_col, usecols, dtype, engine, converters, true_values, false_values, skipinitialspace, skiprows, skipfooter, nrows, na_values, keep_default_na, na_filter, verbose, skip_blank_lines, parse_dates, infer_datetime_format, keep_date_col, date_parser, date_format, dayfirst, cache_dates, iterator, chunksize, compression, thousands, decimal, lineterminator, quotechar, quoting, doublequote, escapechar, comment, encoding, encoding_errors, dialect, on_bad_lines, delim_whitespace, low_memory, memory_map, float_precision, storage_options, dtype_backend)\u001b[0m\n\u001b[0;32m   1229\u001b[0m kwds_defaults \u001b[39m=\u001b[39m _refine_defaults_read(\n\u001b[0;32m   1230\u001b[0m     dialect,\n\u001b[0;32m   1231\u001b[0m     delimiter,\n\u001b[1;32m   (...)\u001b[0m\n\u001b[0;32m   1238\u001b[0m     dtype_backend\u001b[39m=\u001b[39mdtype_backend,\n\u001b[0;32m   1239\u001b[0m )\n\u001b[0;32m   1240\u001b[0m kwds\u001b[39m.\u001b[39mupdate(kwds_defaults)\n\u001b[1;32m-> 1242\u001b[0m \u001b[39mreturn\u001b[39;00m _read(filepath_or_buffer, kwds)\n",
      "File \u001b[1;32mc:\\Users\\macks\\anaconda3\\envs\\dev\\Lib\\site-packages\\pandas\\io\\parsers\\readers.py:577\u001b[0m, in \u001b[0;36m_read\u001b[1;34m(filepath_or_buffer, kwds)\u001b[0m\n\u001b[0;32m    574\u001b[0m _validate_names(kwds\u001b[39m.\u001b[39mget(\u001b[39m\"\u001b[39m\u001b[39mnames\u001b[39m\u001b[39m\"\u001b[39m, \u001b[39mNone\u001b[39;00m))\n\u001b[0;32m    576\u001b[0m \u001b[39m# Create the parser.\u001b[39;00m\n\u001b[1;32m--> 577\u001b[0m parser \u001b[39m=\u001b[39m TextFileReader(filepath_or_buffer, \u001b[39m*\u001b[39m\u001b[39m*\u001b[39mkwds)\n\u001b[0;32m    579\u001b[0m \u001b[39mif\u001b[39;00m chunksize \u001b[39mor\u001b[39;00m iterator:\n\u001b[0;32m    580\u001b[0m     \u001b[39mreturn\u001b[39;00m parser\n",
      "File \u001b[1;32mc:\\Users\\macks\\anaconda3\\envs\\dev\\Lib\\site-packages\\pandas\\io\\parsers\\readers.py:1407\u001b[0m, in \u001b[0;36mTextFileReader.__init__\u001b[1;34m(self, f, engine, **kwds)\u001b[0m\n\u001b[0;32m   1404\u001b[0m     \u001b[39mself\u001b[39m\u001b[39m.\u001b[39moptions[\u001b[39m\"\u001b[39m\u001b[39mhas_index_names\u001b[39m\u001b[39m\"\u001b[39m] \u001b[39m=\u001b[39m kwds[\u001b[39m\"\u001b[39m\u001b[39mhas_index_names\u001b[39m\u001b[39m\"\u001b[39m]\n\u001b[0;32m   1406\u001b[0m \u001b[39mself\u001b[39m\u001b[39m.\u001b[39mhandles: IOHandles \u001b[39m|\u001b[39m \u001b[39mNone\u001b[39;00m \u001b[39m=\u001b[39m \u001b[39mNone\u001b[39;00m\n\u001b[1;32m-> 1407\u001b[0m \u001b[39mself\u001b[39m\u001b[39m.\u001b[39m_engine \u001b[39m=\u001b[39m \u001b[39mself\u001b[39m\u001b[39m.\u001b[39m_make_engine(f, \u001b[39mself\u001b[39m\u001b[39m.\u001b[39mengine)\n",
      "File \u001b[1;32mc:\\Users\\macks\\anaconda3\\envs\\dev\\Lib\\site-packages\\pandas\\io\\parsers\\readers.py:1661\u001b[0m, in \u001b[0;36mTextFileReader._make_engine\u001b[1;34m(self, f, engine)\u001b[0m\n\u001b[0;32m   1659\u001b[0m     \u001b[39mif\u001b[39;00m \u001b[39m\"\u001b[39m\u001b[39mb\u001b[39m\u001b[39m\"\u001b[39m \u001b[39mnot\u001b[39;00m \u001b[39min\u001b[39;00m mode:\n\u001b[0;32m   1660\u001b[0m         mode \u001b[39m+\u001b[39m\u001b[39m=\u001b[39m \u001b[39m\"\u001b[39m\u001b[39mb\u001b[39m\u001b[39m\"\u001b[39m\n\u001b[1;32m-> 1661\u001b[0m \u001b[39mself\u001b[39m\u001b[39m.\u001b[39mhandles \u001b[39m=\u001b[39m get_handle(\n\u001b[0;32m   1662\u001b[0m     f,\n\u001b[0;32m   1663\u001b[0m     mode,\n\u001b[0;32m   1664\u001b[0m     encoding\u001b[39m=\u001b[39m\u001b[39mself\u001b[39m\u001b[39m.\u001b[39moptions\u001b[39m.\u001b[39mget(\u001b[39m\"\u001b[39m\u001b[39mencoding\u001b[39m\u001b[39m\"\u001b[39m, \u001b[39mNone\u001b[39;00m),\n\u001b[0;32m   1665\u001b[0m     compression\u001b[39m=\u001b[39m\u001b[39mself\u001b[39m\u001b[39m.\u001b[39moptions\u001b[39m.\u001b[39mget(\u001b[39m\"\u001b[39m\u001b[39mcompression\u001b[39m\u001b[39m\"\u001b[39m, \u001b[39mNone\u001b[39;00m),\n\u001b[0;32m   1666\u001b[0m     memory_map\u001b[39m=\u001b[39m\u001b[39mself\u001b[39m\u001b[39m.\u001b[39moptions\u001b[39m.\u001b[39mget(\u001b[39m\"\u001b[39m\u001b[39mmemory_map\u001b[39m\u001b[39m\"\u001b[39m, \u001b[39mFalse\u001b[39;00m),\n\u001b[0;32m   1667\u001b[0m     is_text\u001b[39m=\u001b[39mis_text,\n\u001b[0;32m   1668\u001b[0m     errors\u001b[39m=\u001b[39m\u001b[39mself\u001b[39m\u001b[39m.\u001b[39moptions\u001b[39m.\u001b[39mget(\u001b[39m\"\u001b[39m\u001b[39mencoding_errors\u001b[39m\u001b[39m\"\u001b[39m, \u001b[39m\"\u001b[39m\u001b[39mstrict\u001b[39m\u001b[39m\"\u001b[39m),\n\u001b[0;32m   1669\u001b[0m     storage_options\u001b[39m=\u001b[39m\u001b[39mself\u001b[39m\u001b[39m.\u001b[39moptions\u001b[39m.\u001b[39mget(\u001b[39m\"\u001b[39m\u001b[39mstorage_options\u001b[39m\u001b[39m\"\u001b[39m, \u001b[39mNone\u001b[39;00m),\n\u001b[0;32m   1670\u001b[0m )\n\u001b[0;32m   1671\u001b[0m \u001b[39massert\u001b[39;00m \u001b[39mself\u001b[39m\u001b[39m.\u001b[39mhandles \u001b[39mis\u001b[39;00m \u001b[39mnot\u001b[39;00m \u001b[39mNone\u001b[39;00m\n\u001b[0;32m   1672\u001b[0m f \u001b[39m=\u001b[39m \u001b[39mself\u001b[39m\u001b[39m.\u001b[39mhandles\u001b[39m.\u001b[39mhandle\n",
      "File \u001b[1;32mc:\\Users\\macks\\anaconda3\\envs\\dev\\Lib\\site-packages\\pandas\\io\\common.py:859\u001b[0m, in \u001b[0;36mget_handle\u001b[1;34m(path_or_buf, mode, encoding, compression, memory_map, is_text, errors, storage_options)\u001b[0m\n\u001b[0;32m    854\u001b[0m \u001b[39melif\u001b[39;00m \u001b[39misinstance\u001b[39m(handle, \u001b[39mstr\u001b[39m):\n\u001b[0;32m    855\u001b[0m     \u001b[39m# Check whether the filename is to be opened in binary mode.\u001b[39;00m\n\u001b[0;32m    856\u001b[0m     \u001b[39m# Binary mode does not support 'encoding' and 'newline'.\u001b[39;00m\n\u001b[0;32m    857\u001b[0m     \u001b[39mif\u001b[39;00m ioargs\u001b[39m.\u001b[39mencoding \u001b[39mand\u001b[39;00m \u001b[39m\"\u001b[39m\u001b[39mb\u001b[39m\u001b[39m\"\u001b[39m \u001b[39mnot\u001b[39;00m \u001b[39min\u001b[39;00m ioargs\u001b[39m.\u001b[39mmode:\n\u001b[0;32m    858\u001b[0m         \u001b[39m# Encoding\u001b[39;00m\n\u001b[1;32m--> 859\u001b[0m         handle \u001b[39m=\u001b[39m \u001b[39mopen\u001b[39m(\n\u001b[0;32m    860\u001b[0m             handle,\n\u001b[0;32m    861\u001b[0m             ioargs\u001b[39m.\u001b[39mmode,\n\u001b[0;32m    862\u001b[0m             encoding\u001b[39m=\u001b[39mioargs\u001b[39m.\u001b[39mencoding,\n\u001b[0;32m    863\u001b[0m             errors\u001b[39m=\u001b[39merrors,\n\u001b[0;32m    864\u001b[0m             newline\u001b[39m=\u001b[39m\u001b[39m\"\u001b[39m\u001b[39m\"\u001b[39m,\n\u001b[0;32m    865\u001b[0m         )\n\u001b[0;32m    866\u001b[0m     \u001b[39melse\u001b[39;00m:\n\u001b[0;32m    867\u001b[0m         \u001b[39m# Binary mode\u001b[39;00m\n\u001b[0;32m    868\u001b[0m         handle \u001b[39m=\u001b[39m \u001b[39mopen\u001b[39m(handle, ioargs\u001b[39m.\u001b[39mmode)\n",
      "\u001b[1;31mFileNotFoundError\u001b[0m: [Errno 2] No such file or directory: './Resources/flight_edges.tsv'"
     ]
    }
   ],
   "source": [
    "#Reordering and Naming columns\n",
    "df = pd.read_table('./Resources/flight_edges.tsv', names=['Origin Airport', 'Destination Airport', 'Origin City', 'Destination City', \n",
    "                                                          'Passangers', 'Seats', 'Flights', 'Distance', 'Fly Date', 'Origin Population', 'Destination Population'])\n",
    "df.head()"
   ]
  },
  {
   "cell_type": "code",
   "execution_count": null,
   "id": "c4348bc6",
   "metadata": {},
   "outputs": [],
   "source": [
    "#reshape the date\n",
    "df.shape[0]"
   ]
  },
  {
   "cell_type": "code",
   "execution_count": null,
   "id": "5d727a82",
   "metadata": {},
   "outputs": [],
   "source": [
    "#Removes all rows with out info or NAN info\n",
    "df.dropna(inplace=True)"
   ]
  },
  {
   "cell_type": "code",
   "execution_count": null,
   "id": "bf178ad8",
   "metadata": {},
   "outputs": [],
   "source": [
    "#Get amount of unique rows in column \n",
    "len(df['Origin Airport'].unique())"
   ]
  },
  {
   "cell_type": "code",
   "execution_count": null,
   "id": "180f50c4",
   "metadata": {},
   "outputs": [],
   "source": [
    "#DATE IS IN YYYYMM FORMAT. NEED TO SPLIT INTO COLUMNS\n",
    "def splitYearMonth (date:int):\n",
    "    date = str(date)\n",
    "    date = list(date)\n",
    "    yearList = date[:4]\n",
    "    year = ''\n",
    "    year = year.join(yearList)\n",
    "    year = int(year)\n",
    "    monthList = date[-2:]\n",
    "    month = ''\n",
    "    month = month.join(monthList)\n",
    "    month = int(month)\n",
    "    return year, month"
   ]
  },
  {
   "cell_type": "code",
   "execution_count": null,
   "id": "d656c744",
   "metadata": {},
   "outputs": [],
   "source": [
    "#convert column to string\n",
    "df['Fly Date'] = df['Fly Date'].astype(str)\n",
    "\n",
    "#assining new columns to the date info split by month and year\n",
    "df['Year'], df['Month'] = df['Fly Date'].str[:4], df['Fly Date'].str[4:]\n",
    "df.head()"
   ]
  },
  {
   "cell_type": "code",
   "execution_count": null,
   "id": "3fc78ee6",
   "metadata": {},
   "outputs": [],
   "source": [
    "#access to data\n",
    "df.to_csv('../08-EV-charging/Resources/8minuteMayhem', index=False)"
   ]
  },
  {
   "cell_type": "code",
   "execution_count": null,
   "id": "fcc49157",
   "metadata": {},
   "outputs": [],
   "source": [
    "#read dataframe\n",
    "df2 = pd.read_csv('./Resources/8minuteMayhem')"
   ]
  },
  {
   "cell_type": "code",
   "execution_count": null,
   "id": "2e5b90b8",
   "metadata": {},
   "outputs": [],
   "source": [
    "#Round the maths by 2 decimal places\n",
    "df2['Percent Full'] = round((df2['Passangers'] / df2['Seats']), 2)\n",
    "df2.head()"
   ]
  },
  {
   "cell_type": "code",
   "execution_count": null,
   "id": "e614fe4a",
   "metadata": {},
   "outputs": [],
   "source": [
    "#Reordering and Naming columns\n",
    "df2 = df2[['Origin Airport', 'Origin City', 'Origin Population', 'Destination Airport',  'Destination City', 'Destination Population','Distance', 'Flights', 'Passangers', \n",
    "\t\t   'Seats', 'Percent Full', 'Fly Date', 'Month', 'Year']]\n",
    "df2.head()"
   ]
  },
  {
   "cell_type": "code",
   "execution_count": null,
   "id": "62696572",
   "metadata": {},
   "outputs": [],
   "source": [
    "#exports DataFrame as csv to folder\n",
    "df2.to_csv('./Resources/bigCleanData.csv', index=False)"
   ]
  },
  {
   "cell_type": "code",
   "execution_count": null,
   "id": "f8dbfdbd",
   "metadata": {},
   "outputs": [],
   "source": [
    "# Notes:"
   ]
  },
  {
   "cell_type": "code",
   "execution_count": null,
   "id": "486c57f0",
   "metadata": {},
   "outputs": [],
   "source": []
  },
  {
   "cell_type": "markdown",
   "id": "42f54dcd",
   "metadata": {},
   "source": [
    "## Chart Generation.ipynb"
   ]
  },
  {
   "cell_type": "code",
   "execution_count": null,
   "id": "6b76015c",
   "metadata": {},
   "outputs": [],
   "source": [
    "#Imporing Libs\n",
    "import pandas as pd\n",
    "import matplotlib.pyplot as plt\n",
    "import scipy.stats as st\n",
    "import statsmodels.api as sm\n",
    "\n",
    "#Reads CSV data\n",
    "df = pd.read_csv('./Resources/bigCleanData.csv')\n",
    "df.head()"
   ]
  },
  {
   "cell_type": "code",
   "execution_count": null,
   "id": "29485f3f",
   "metadata": {},
   "outputs": [],
   "source": [
    "# Remove where two columns are equal, this step may be skipped\n",
    "# New question: how may airports have flights originating and arriving at themselves?\n",
    "df = df[df['Destination Airport'] != df['Origin Airport']]"
   ]
  },
  {
   "cell_type": "code",
   "execution_count": null,
   "id": "249ea791",
   "metadata": {},
   "outputs": [],
   "source": [
    "#Count of unique routes, summing the value in the Flights column (number of flights in the given month)\n",
    "uniqueRoutes = df.groupby(['Origin Airport', 'Destination Airport'])['Flights'].sum().reset_index()\n",
    "uniqueRoutes.head()"
   ]
  },
  {
   "cell_type": "code",
   "execution_count": null,
   "id": "0059e6b4",
   "metadata": {},
   "outputs": [],
   "source": [
    "#Total number of unique routes\n",
    "uniqueRoutes.shape[0]"
   ]
  },
  {
   "cell_type": "markdown",
   "id": "12b07df3",
   "metadata": {},
   "source": [
    "### Pie Chart With Dest Code"
   ]
  },
  {
   "cell_type": "code",
   "execution_count": null,
   "id": "f9bce2ba",
   "metadata": {},
   "outputs": [],
   "source": [
    "#Get count of each occurance of a destination code\n",
    "destFlights = df.groupby(['Destination Airport'])['Flights'].sum().reset_index()\n",
    "destFlights.sort_values('Flights', inplace=True, ascending=False)\n",
    "destFlights.head()"
   ]
  },
  {
   "cell_type": "code",
   "execution_count": null,
   "id": "31cb6407",
   "metadata": {},
   "outputs": [],
   "source": [
    "#Creates varibles for Number of entries\n",
    "numEntries = 25\n",
    "\n",
    "#stores 25 rows of data in new DataFrame (varible)\n",
    "shortened = destFlights.iloc[:numEntries]\n",
    "\n",
    "#create a pie chart that shows the percentage of flights to each destination airport in the shortened dataframe\n",
    "plt.pie(shortened['Flights'], labels=shortened['Destination Airport'], autopct='%1.1f%%', radius=2)\n",
    "plt.title(\"Percent of flights terminating at a given airport\", y=1.4)\n",
    "plt.show()\n",
    "\n",
    "#Calc the sum of data in flights column\n",
    "shortSum = shortened['Flights'].sum()\n",
    "longSum = destFlights['Flights'].sum()\n",
    "pctShown = round(((shortSum/longSum) * 100), 2)\n",
    "\n",
    "print(f\"The above chart accounts for {pctShown}% of flights\")"
   ]
  },
  {
   "cell_type": "markdown",
   "id": "20dc98e3",
   "metadata": {},
   "source": [
    "### Pie Chart With Orig Code"
   ]
  },
  {
   "cell_type": "code",
   "execution_count": null,
   "id": "f1da7cd6",
   "metadata": {},
   "outputs": [],
   "source": [
    "#Group data in to one column and calc Sub of rows in 2 columns\n",
    "origFlights = df.groupby(['Origin Airport'])['Flights'].sum().reset_index()\n",
    "origFlights.sort_values('Flights', inplace=True, ascending=False)\n",
    "origFlights.head()"
   ]
  },
  {
   "cell_type": "code",
   "execution_count": null,
   "id": "1d372d9b",
   "metadata": {},
   "outputs": [],
   "source": [
    "#Creates varibles for Number of entries\n",
    "numEntries = 25\n",
    "shortened = origFlights.iloc[:numEntries]\n",
    "\n",
    "#create a pie chart that shows the percentage of flights to each destination airport in the shortened dataframe\n",
    "plt.pie(shortened['Flights'], labels=shortened['Origin Airport'], autopct='%1.1f%%', radius=2)\n",
    "plt.title(\"Percent of flights starting at a given airport\", y=1.4)\n",
    "plt.show()\n",
    "\n",
    "#Calc the sum of data in flights column\n",
    "shortSum = shortened['Flights'].sum()\n",
    "longSum = origFlights['Flights'].sum()\n",
    "pctShown = round(((shortSum/longSum) * 100), 2)\n",
    "\n",
    "print(f\"The above chart accounts for {pctShown}% of flights\")"
   ]
  },
  {
   "cell_type": "markdown",
   "id": "3935d6a1",
   "metadata": {},
   "source": [
    "### Percent Full vs Route Frequency"
   ]
  },
  {
   "cell_type": "code",
   "execution_count": null,
   "id": "736381b3",
   "metadata": {},
   "outputs": [],
   "source": [
    "#group data by 2 columns and calc the mean\n",
    "avgPctFull = df.groupby(['Origin Airport', 'Destination Airport'])['Percent Full'].mean().reset_index()\n",
    "avgPctFull.head()"
   ]
  },
  {
   "cell_type": "code",
   "execution_count": null,
   "id": "1f83f04f",
   "metadata": {},
   "outputs": [],
   "source": [
    "#Merged data\n",
    "fullFrame = pd.merge(uniqueRoutes, avgPctFull, on=['Origin Airport', 'Destination Airport'])\n",
    "\n",
    "#assigns it the length of the fullFrame dataframe after dropping the missing values.\n",
    "withNA = len(fullFrame)\n",
    "\n",
    "#remove all na data\n",
    "fullFrame.dropna(inplace=True)\n",
    "\n",
    "#assigns it the length of the fullFrame dataframe after dropping the missing values.\n",
    "droppedNA = len(fullFrame)\n",
    "\n",
    "print(f\"There where {withNA - droppedNA} flights with NA values, assumed to be empty flights\")"
   ]
  },
  {
   "cell_type": "code",
   "execution_count": null,
   "id": "e6333f0f",
   "metadata": {},
   "outputs": [],
   "source": [
    "test = df[df['Percent Full'] > 1]\n",
    "print(f'There are {len(test)} instances of flights running over capacity')"
   ]
  },
  {
   "cell_type": "markdown",
   "id": "aa3731fc",
   "metadata": {},
   "source": [
    "### Chart X01: Percent Full vs Number of Flights"
   ]
  },
  {
   "cell_type": "code",
   "execution_count": null,
   "id": "2c003c1e",
   "metadata": {},
   "outputs": [],
   "source": [
    "#Create scatter plot\n",
    "plt.scatter(fullFrame['Flights'], fullFrame['Percent Full'])\n",
    "plt.xlabel('Number of Flights')\n",
    "plt.ylabel('Average Percent Full for each route')\n",
    "plt.title('Percent Full vs Number of Flights')\n",
    "plt.show()"
   ]
  },
  {
   "cell_type": "markdown",
   "id": "b5434fb9",
   "metadata": {},
   "source": [
    "### Chart X02: Distribution -- needs explanation by Zachary"
   ]
  },
  {
   "cell_type": "code",
   "execution_count": null,
   "id": "75f34e85",
   "metadata": {},
   "outputs": [],
   "source": [
    "#The code passes the columns ‘Flights’ and ‘Percent Full’ of the dataframe fullFrame as the input arguments to the function. The function returns five values: \n",
    "#the slope, the intercept, the correlation coefficient (rvalue), the p-value, and the standard error of the slope (stderr). \n",
    "(slope, intercept, rvalue, pvalue, stderr) = st.linregress(fullFrame['Flights'], fullFrame['Percent Full'])\n",
    "print(pvalue)\n",
    "\n",
    "print(f'p = {slope}f + {intercept}')"
   ]
  },
  {
   "cell_type": "code",
   "execution_count": null,
   "id": "42fb9dc4",
   "metadata": {},
   "outputs": [],
   "source": [
    "#create a histogram that shows the distribution of the values in the ‘Percent Full’ column\n",
    "plt.hist(fullFrame[['Percent Full']], bins = 30)\n",
    "plt.show()"
   ]
  },
  {
   "cell_type": "markdown",
   "id": "5d74d285",
   "metadata": {},
   "source": [
    "### Route Frequency vs Destination Population (E)"
   ]
  },
  {
   "cell_type": "markdown",
   "id": "23f2b752",
   "metadata": {},
   "source": [
    "#### Shelved for now, running into odd issues with getting the population of the destination location"
   ]
  },
  {
   "cell_type": "code",
   "execution_count": null,
   "id": "aa5e647d",
   "metadata": {},
   "outputs": [],
   "source": [
    "df2 = df.copy()\n",
    "oriDest = 'Destination'\n",
    "\n",
    "portCode = f'{oriDest} Airport'\n",
    "coi = f'{oriDest} Population'\n",
    "\n",
    "codeLookup = df2[[portCode, coi]].drop_duplicates(keep='first')\n",
    "codeLookup = codeLookup.groupby(portCode)[coi].mean().reset_index()\n",
    "codeLookup"
   ]
  },
  {
   "cell_type": "code",
   "execution_count": null,
   "id": "f64b6ebb",
   "metadata": {},
   "outputs": [],
   "source": [
    "#Column of interest will be abreviated to coi\n",
    "dataOfInterest = pd.merge(uniqueRoutes, codeLookup, on=portCode)\n",
    "dataOfInterest.tail()"
   ]
  },
  {
   "cell_type": "code",
   "execution_count": null,
   "id": "cbdc134f",
   "metadata": {},
   "outputs": [],
   "source": [
    "withNA = len(dataOfInterest)\n",
    "dataOfInterest.dropna(inplace=True)\n",
    "droppedNA = len(dataOfInterest)\n",
    "\n",
    "#No NA values found, skipping print statement\n",
    "#print(f\"There where {withNA - droppedNA} flights with NA values, assumed to be empty flights\")"
   ]
  },
  {
   "cell_type": "code",
   "execution_count": null,
   "id": "ec1afe8b",
   "metadata": {},
   "outputs": [],
   "source": [
    "#dataOfInterest[coi].max()\n",
    "dataOfInterest.sort_values(coi, ascending=False, inplace=True)\n",
    "dataOfInterest"
   ]
  },
  {
   "cell_type": "markdown",
   "id": "5d7fcdc1",
   "metadata": {},
   "source": [
    "### Chart X03: Destination Population vs Number of Flights"
   ]
  },
  {
   "cell_type": "code",
   "execution_count": null,
   "id": "a485b25d",
   "metadata": {},
   "outputs": [],
   "source": [
    "#Create Scatter plot \n",
    "plt.scatter(dataOfInterest[coi], dataOfInterest['Flights'])\n",
    "plt.ylabel('Number of Flights')\n",
    "plt.xlabel(coi)\n",
    "plt.title(f'{coi} vs Number of Flights')\n",
    "plt.show()"
   ]
  },
  {
   "cell_type": "markdown",
   "id": "11a1a805",
   "metadata": {},
   "source": [
    "### Number of Passangers Flown per Year and Month"
   ]
  },
  {
   "cell_type": "markdown",
   "id": "6d7d20b0",
   "metadata": {},
   "source": [
    "### Big City Small City Correlation"
   ]
  },
  {
   "cell_type": "code",
   "execution_count": null,
   "id": "2243e12b",
   "metadata": {},
   "outputs": [],
   "source": [
    "# NOTES: "
   ]
  },
  {
   "cell_type": "code",
   "execution_count": null,
   "id": "b87f18bb",
   "metadata": {},
   "outputs": [],
   "source": []
  }
 ],
 "metadata": {
  "kernelspec": {
   "display_name": "Python 3 (ipykernel)",
   "language": "python",
   "name": "python3"
  },
  "language_info": {
   "codemirror_mode": {
    "name": "ipython",
    "version": 3
   },
   "file_extension": ".py",
   "mimetype": "text/x-python",
   "name": "python",
   "nbconvert_exporter": "python",
   "pygments_lexer": "ipython3",
   "version": "3.11.5"
  }
 },
 "nbformat": 4,
 "nbformat_minor": 5
}
