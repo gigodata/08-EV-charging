{
 "cells": [
  {
   "cell_type": "markdown",
   "id": "e6b8007f",
   "metadata": {},
   "source": [
    "## Airline Analysis - Project 1 - Adrian Santos  \n",
    "#### Last updated: 2023-11-01 -- v0.1"
   ]
  },
  {
   "cell_type": "markdown",
   "id": "7662f99d",
   "metadata": {},
   "source": [
    "### Import data file, process loaded in DataFrame, scrub for nulls, recast date variable, & reorder columns"
   ]
  },
  {
   "cell_type": "code",
   "execution_count": 1,
   "id": "b3f5c219",
   "metadata": {},
   "outputs": [],
   "source": [
    "# Initial set-up - Import libraries\n",
    "import pandas as pd"
   ]
  },
  {
   "cell_type": "code",
   "execution_count": 2,
   "id": "d7a189a3",
   "metadata": {},
   "outputs": [],
   "source": [
    "# Load airline route data into DataFrame - define datatype for integers\n",
    "df = pd.read_table('./Resources/flight_edges.tsv', \n",
    "     names=['Origin Airport', \n",
    "            'Destination Airport', \n",
    "            'Origin City', \n",
    "            'Destination City',                                          \n",
    "            'Passengers', \n",
    "            'Seats', \n",
    "            'Flights', \n",
    "            'Distance', \n",
    "            'Fly Date', \n",
    "            'Origin Population', \n",
    "            'Destination Population',\n",
    "           ],\n",
    "     dtype={'Passengers': int, \n",
    "            'Seats': int, \n",
    "            'Flights': int, \n",
    "            'Distance': int, \n",
    "            'Fly Date': str, \n",
    "            'Origin Population': int, \n",
    "            'Destination Population': int\n",
    "           },\n",
    "     chunksize=1000000\n",
    "                  )"
   ]
  },
  {
   "cell_type": "code",
   "execution_count": 3,
   "id": "2de4f494",
   "metadata": {},
   "outputs": [],
   "source": [
    "# Recast 'Fly Date' from YYYYMM format to separate columns of 'Month' and 'Year'\n",
    "def flydate_recast(date:str):\n",
    "    date = list(date)\n",
    "    monthList = date[-2:]\n",
    "    month = ''\n",
    "    month = month.join(monthList)\n",
    "    month = str(month)\n",
    "    yearList = date[:4]\n",
    "    year = ''\n",
    "    year = year.join(yearList)\n",
    "    year = str(year)\n",
    "    return month, year"
   ]
  },
  {
   "cell_type": "code",
   "execution_count": 4,
   "id": "4c11f27c",
   "metadata": {},
   "outputs": [],
   "source": [
    "# Create an empty list to store the chunks of 1,000,000 rows at a time\n",
    "chunks = []"
   ]
  },
  {
   "cell_type": "code",
   "execution_count": 5,
   "id": "18a02dac",
   "metadata": {},
   "outputs": [],
   "source": [
    "# Iterate over each chunk of data\n",
    "for chunk in df:\n",
    "    \n",
    "    # Drop rows with null values\n",
    "    chunk.dropna(inplace=True)\n",
    "    \n",
    "    # Recast 'Fly Date' from YYYYMM format to columns for 'Month' and 'Year'\n",
    "    chunk[['Month', 'Year']] = chunk['Fly Date'].apply(lambda x: pd.Series(flydate_recast(x)))\n",
    "    \n",
    "    # Append the modified chunk to the list\n",
    "    chunks.append(chunk)"
   ]
  },
  {
   "cell_type": "code",
   "execution_count": 6,
   "id": "063fe743",
   "metadata": {},
   "outputs": [],
   "source": [
    "# Concatenate all of the chunks into one DataFrame\n",
    "df = pd.concat(chunks)"
   ]
  },
  {
   "cell_type": "code",
   "execution_count": 7,
   "id": "0bccc4e2",
   "metadata": {},
   "outputs": [
    {
     "data": {
      "text/plain": [
       "(3606803, 13)"
      ]
     },
     "execution_count": 7,
     "metadata": {},
     "output_type": "execute_result"
    }
   ],
   "source": [
    "# Return the number of rows and columns in the DataFrame\n",
    "df.shape"
   ]
  },
  {
   "cell_type": "code",
   "execution_count": 8,
   "id": "b57b2344",
   "metadata": {},
   "outputs": [],
   "source": [
    "# Reorder column order so 'Month' and 'Year' are repositioned to come after 'Fly Date'\n",
    "column_reorder = ['Origin Airport', \n",
    "             'Destination Airport', \n",
    "             'Origin City', \n",
    "             'Destination City', \n",
    "             'Passengers', \n",
    "             'Seats', \n",
    "             'Flights', \n",
    "             'Distance', \n",
    "             'Fly Date', \n",
    "             'Month', \n",
    "             'Year', \n",
    "             'Origin Population', \n",
    "             'Destination Population'\n",
    "            ]\n",
    "df = df.reindex(columns=column_reorder)"
   ]
  },
  {
   "cell_type": "code",
   "execution_count": 9,
   "id": "d673dd26",
   "metadata": {},
   "outputs": [
    {
     "data": {
      "text/html": [
       "<div>\n",
       "<style scoped>\n",
       "    .dataframe tbody tr th:only-of-type {\n",
       "        vertical-align: middle;\n",
       "    }\n",
       "\n",
       "    .dataframe tbody tr th {\n",
       "        vertical-align: top;\n",
       "    }\n",
       "\n",
       "    .dataframe thead th {\n",
       "        text-align: right;\n",
       "    }\n",
       "</style>\n",
       "<table border=\"1\" class=\"dataframe\">\n",
       "  <thead>\n",
       "    <tr style=\"text-align: right;\">\n",
       "      <th></th>\n",
       "      <th>Origin Airport</th>\n",
       "      <th>Destination Airport</th>\n",
       "      <th>Origin City</th>\n",
       "      <th>Destination City</th>\n",
       "      <th>Passengers</th>\n",
       "      <th>Seats</th>\n",
       "      <th>Flights</th>\n",
       "      <th>Distance</th>\n",
       "      <th>Fly Date</th>\n",
       "      <th>Month</th>\n",
       "      <th>Year</th>\n",
       "      <th>Origin Population</th>\n",
       "      <th>Destination Population</th>\n",
       "    </tr>\n",
       "  </thead>\n",
       "  <tbody>\n",
       "    <tr>\n",
       "      <th>0</th>\n",
       "      <td>MHK</td>\n",
       "      <td>AMW</td>\n",
       "      <td>Manhattan, KS</td>\n",
       "      <td>Ames, IA</td>\n",
       "      <td>21</td>\n",
       "      <td>30</td>\n",
       "      <td>1</td>\n",
       "      <td>254</td>\n",
       "      <td>200810</td>\n",
       "      <td>10</td>\n",
       "      <td>2008</td>\n",
       "      <td>122049</td>\n",
       "      <td>86219</td>\n",
       "    </tr>\n",
       "    <tr>\n",
       "      <th>1</th>\n",
       "      <td>EUG</td>\n",
       "      <td>RDM</td>\n",
       "      <td>Eugene, OR</td>\n",
       "      <td>Bend, OR</td>\n",
       "      <td>41</td>\n",
       "      <td>396</td>\n",
       "      <td>22</td>\n",
       "      <td>103</td>\n",
       "      <td>199011</td>\n",
       "      <td>11</td>\n",
       "      <td>1990</td>\n",
       "      <td>284093</td>\n",
       "      <td>76034</td>\n",
       "    </tr>\n",
       "    <tr>\n",
       "      <th>2</th>\n",
       "      <td>EUG</td>\n",
       "      <td>RDM</td>\n",
       "      <td>Eugene, OR</td>\n",
       "      <td>Bend, OR</td>\n",
       "      <td>88</td>\n",
       "      <td>342</td>\n",
       "      <td>19</td>\n",
       "      <td>103</td>\n",
       "      <td>199012</td>\n",
       "      <td>12</td>\n",
       "      <td>1990</td>\n",
       "      <td>284093</td>\n",
       "      <td>76034</td>\n",
       "    </tr>\n",
       "    <tr>\n",
       "      <th>3</th>\n",
       "      <td>EUG</td>\n",
       "      <td>RDM</td>\n",
       "      <td>Eugene, OR</td>\n",
       "      <td>Bend, OR</td>\n",
       "      <td>11</td>\n",
       "      <td>72</td>\n",
       "      <td>4</td>\n",
       "      <td>103</td>\n",
       "      <td>199010</td>\n",
       "      <td>10</td>\n",
       "      <td>1990</td>\n",
       "      <td>284093</td>\n",
       "      <td>76034</td>\n",
       "    </tr>\n",
       "    <tr>\n",
       "      <th>4</th>\n",
       "      <td>MFR</td>\n",
       "      <td>RDM</td>\n",
       "      <td>Medford, OR</td>\n",
       "      <td>Bend, OR</td>\n",
       "      <td>0</td>\n",
       "      <td>18</td>\n",
       "      <td>1</td>\n",
       "      <td>156</td>\n",
       "      <td>199002</td>\n",
       "      <td>02</td>\n",
       "      <td>1990</td>\n",
       "      <td>147300</td>\n",
       "      <td>76034</td>\n",
       "    </tr>\n",
       "  </tbody>\n",
       "</table>\n",
       "</div>"
      ],
      "text/plain": [
       "  Origin Airport Destination Airport    Origin City Destination City  \\\n",
       "0            MHK                 AMW  Manhattan, KS         Ames, IA   \n",
       "1            EUG                 RDM     Eugene, OR         Bend, OR   \n",
       "2            EUG                 RDM     Eugene, OR         Bend, OR   \n",
       "3            EUG                 RDM     Eugene, OR         Bend, OR   \n",
       "4            MFR                 RDM    Medford, OR         Bend, OR   \n",
       "\n",
       "   Passengers  Seats  Flights  Distance Fly Date Month  Year  \\\n",
       "0          21     30        1       254   200810    10  2008   \n",
       "1          41    396       22       103   199011    11  1990   \n",
       "2          88    342       19       103   199012    12  1990   \n",
       "3          11     72        4       103   199010    10  1990   \n",
       "4           0     18        1       156   199002    02  1990   \n",
       "\n",
       "   Origin Population  Destination Population  \n",
       "0             122049                   86219  \n",
       "1             284093                   76034  \n",
       "2             284093                   76034  \n",
       "3             284093                   76034  \n",
       "4             147300                   76034  "
      ]
     },
     "execution_count": 9,
     "metadata": {},
     "output_type": "execute_result"
    }
   ],
   "source": [
    "# Return updated DataFrame\n",
    "df.head()"
   ]
  },
  {
   "cell_type": "markdown",
   "id": "b2ffb37b",
   "metadata": {},
   "source": [
    "## Scrubbed DataFrame in place --  Begin preliminary analyses"
   ]
  },
  {
   "cell_type": "code",
   "execution_count": 10,
   "id": "128f4a79",
   "metadata": {},
   "outputs": [],
   "source": [
    "# Step 01 - Perform exploratory analysis by aggregating on various attributes"
   ]
  },
  {
   "cell_type": "code",
   "execution_count": null,
   "id": "c442dd4f",
   "metadata": {},
   "outputs": [],
   "source": []
  }
 ],
 "metadata": {
  "kernelspec": {
   "display_name": "Python 3 (ipykernel)",
   "language": "python",
   "name": "python3"
  },
  "language_info": {
   "codemirror_mode": {
    "name": "ipython",
    "version": 3
   },
   "file_extension": ".py",
   "mimetype": "text/x-python",
   "name": "python",
   "nbconvert_exporter": "python",
   "pygments_lexer": "ipython3",
   "version": "3.11.4"
  }
 },
 "nbformat": 4,
 "nbformat_minor": 5
}
