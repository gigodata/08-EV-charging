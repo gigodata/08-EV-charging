{
 "cells": [
  {
   "cell_type": "code",
   "execution_count": 1,
   "metadata": {},
   "outputs": [],
   "source": [
    "import pandas as pd\n",
    "import matplotlib.pyplot as plt\n",
    "import numpy as np"
   ]
  },
  {
   "cell_type": "code",
   "execution_count": 2,
   "metadata": {},
   "outputs": [],
   "source": [
    "df = pd.read_table('flight_edges.tsv')\n",
    "df = pd.read_table('flight_edges.tsv', names=['Origin Airport', 'Destination Airport', 'Origin City', 'Destination City', \n",
    "                                                          'Passengers', 'Seats', 'Flights', 'Distance', 'Fly Date', 'Origin Population', 'Destination Population'])\n"
   ]
  },
  {
   "cell_type": "code",
   "execution_count": 3,
   "metadata": {},
   "outputs": [
    {
     "data": {
      "text/html": [
       "<div>\n",
       "<style scoped>\n",
       "    .dataframe tbody tr th:only-of-type {\n",
       "        vertical-align: middle;\n",
       "    }\n",
       "\n",
       "    .dataframe tbody tr th {\n",
       "        vertical-align: top;\n",
       "    }\n",
       "\n",
       "    .dataframe thead th {\n",
       "        text-align: right;\n",
       "    }\n",
       "</style>\n",
       "<table border=\"1\" class=\"dataframe\">\n",
       "  <thead>\n",
       "    <tr style=\"text-align: right;\">\n",
       "      <th></th>\n",
       "      <th>Origin Airport</th>\n",
       "      <th>Destination Airport</th>\n",
       "      <th>Origin City</th>\n",
       "      <th>Destination City</th>\n",
       "      <th>Passengers</th>\n",
       "      <th>Seats</th>\n",
       "      <th>Flights</th>\n",
       "      <th>Distance</th>\n",
       "      <th>Fly Date</th>\n",
       "      <th>Origin Population</th>\n",
       "      <th>Destination Population</th>\n",
       "      <th>Year</th>\n",
       "      <th>Month</th>\n",
       "    </tr>\n",
       "  </thead>\n",
       "  <tbody>\n",
       "    <tr>\n",
       "      <th>0</th>\n",
       "      <td>MHK</td>\n",
       "      <td>AMW</td>\n",
       "      <td>Manhattan, KS</td>\n",
       "      <td>Ames, IA</td>\n",
       "      <td>21</td>\n",
       "      <td>30</td>\n",
       "      <td>1</td>\n",
       "      <td>254.0</td>\n",
       "      <td>200810</td>\n",
       "      <td>122049</td>\n",
       "      <td>86219</td>\n",
       "      <td>2008</td>\n",
       "      <td>10</td>\n",
       "    </tr>\n",
       "    <tr>\n",
       "      <th>1</th>\n",
       "      <td>EUG</td>\n",
       "      <td>RDM</td>\n",
       "      <td>Eugene, OR</td>\n",
       "      <td>Bend, OR</td>\n",
       "      <td>41</td>\n",
       "      <td>396</td>\n",
       "      <td>22</td>\n",
       "      <td>103.0</td>\n",
       "      <td>199011</td>\n",
       "      <td>284093</td>\n",
       "      <td>76034</td>\n",
       "      <td>1990</td>\n",
       "      <td>11</td>\n",
       "    </tr>\n",
       "    <tr>\n",
       "      <th>2</th>\n",
       "      <td>EUG</td>\n",
       "      <td>RDM</td>\n",
       "      <td>Eugene, OR</td>\n",
       "      <td>Bend, OR</td>\n",
       "      <td>88</td>\n",
       "      <td>342</td>\n",
       "      <td>19</td>\n",
       "      <td>103.0</td>\n",
       "      <td>199012</td>\n",
       "      <td>284093</td>\n",
       "      <td>76034</td>\n",
       "      <td>1990</td>\n",
       "      <td>12</td>\n",
       "    </tr>\n",
       "    <tr>\n",
       "      <th>3</th>\n",
       "      <td>EUG</td>\n",
       "      <td>RDM</td>\n",
       "      <td>Eugene, OR</td>\n",
       "      <td>Bend, OR</td>\n",
       "      <td>11</td>\n",
       "      <td>72</td>\n",
       "      <td>4</td>\n",
       "      <td>103.0</td>\n",
       "      <td>199010</td>\n",
       "      <td>284093</td>\n",
       "      <td>76034</td>\n",
       "      <td>1990</td>\n",
       "      <td>10</td>\n",
       "    </tr>\n",
       "    <tr>\n",
       "      <th>4</th>\n",
       "      <td>MFR</td>\n",
       "      <td>RDM</td>\n",
       "      <td>Medford, OR</td>\n",
       "      <td>Bend, OR</td>\n",
       "      <td>0</td>\n",
       "      <td>18</td>\n",
       "      <td>1</td>\n",
       "      <td>156.0</td>\n",
       "      <td>199002</td>\n",
       "      <td>147300</td>\n",
       "      <td>76034</td>\n",
       "      <td>1990</td>\n",
       "      <td>02</td>\n",
       "    </tr>\n",
       "  </tbody>\n",
       "</table>\n",
       "</div>"
      ],
      "text/plain": [
       "  Origin Airport Destination Airport    Origin City Destination City  \\\n",
       "0            MHK                 AMW  Manhattan, KS         Ames, IA   \n",
       "1            EUG                 RDM     Eugene, OR         Bend, OR   \n",
       "2            EUG                 RDM     Eugene, OR         Bend, OR   \n",
       "3            EUG                 RDM     Eugene, OR         Bend, OR   \n",
       "4            MFR                 RDM    Medford, OR         Bend, OR   \n",
       "\n",
       "   Passengers  Seats  Flights  Distance Fly Date  Origin Population  \\\n",
       "0          21     30        1     254.0   200810             122049   \n",
       "1          41    396       22     103.0   199011             284093   \n",
       "2          88    342       19     103.0   199012             284093   \n",
       "3          11     72        4     103.0   199010             284093   \n",
       "4           0     18        1     156.0   199002             147300   \n",
       "\n",
       "   Destination Population  Year Month  \n",
       "0                   86219  2008    10  \n",
       "1                   76034  1990    11  \n",
       "2                   76034  1990    12  \n",
       "3                   76034  1990    10  \n",
       "4                   76034  1990    02  "
      ]
     },
     "execution_count": 3,
     "metadata": {},
     "output_type": "execute_result"
    }
   ],
   "source": [
    "df['Fly Date'] = df['Fly Date'].astype(str)\n",
    "df['Year'], df['Month'] = df['Fly Date'].str[:4], df['Fly Date'].str[4:]\n",
    "df.head()"
   ]
  },
  {
   "cell_type": "code",
   "execution_count": 4,
   "metadata": {},
   "outputs": [],
   "source": [
    "# Code to retrieve the year of interest into separate data frames. \n",
    "\n",
    "_2004_df = df[df[\"Year\"] == \"2004\"].copy()\n",
    "_2005_df = df[df[\"Year\"] == \"2005\"].copy()\n",
    "_2006_df = df[df[\"Year\"] == \"2006\"].copy()\n",
    "_2007_df = df[df[\"Year\"] == \"2007\"].copy()\n",
    "_2008_df = df[df[\"Year\"] == \"2008\"].copy()\n",
    "_2009_df = df[df[\"Year\"] == \"2009\"].copy()\n"
   ]
  },
  {
   "cell_type": "code",
   "execution_count": 5,
   "metadata": {},
   "outputs": [],
   "source": [
    "# Defined the seasons based on the month of the flight\n",
    "\n",
    "def season(row): \n",
    "    if row[\"Month\"] ==\"12\" or row[\"Month\"] == \"01\" or row[\"Month\"] == \"02\":\n",
    "        return \"Winter\"\n",
    "    elif row[\"Month\"] ==\"03\" or row[\"Month\"] == \"04\" or row[\"Month\"] == \"05\":\n",
    "        return \"Spring\"\n",
    "    elif row[\"Month\"] ==\"06\" or row[\"Month\"] == \"07\" or row[\"Month\"] == \"08\":\n",
    "        return \"Summer\"\n",
    "    else:\n",
    "         return \"Fall\"\n",
    "    \n",
    "# Add a season's column to each data frame\n",
    "    \n",
    "_2004_df[\"Season\"] = _2004_df.apply(season, axis =1)\n",
    "_2005_df[\"Season\"] = _2005_df.apply(season, axis =1)\n",
    "_2006_df[\"Season\"] = _2006_df.apply(season, axis =1)\n",
    "_2007_df[\"Season\"] = _2007_df.apply(season, axis =1)\n",
    "_2008_df[\"Season\"] = _2008_df.apply(season, axis =1)\n",
    "_2009_df[\"Season\"] = _2009_df.apply(season, axis =1)\n"
   ]
  },
  {
   "cell_type": "code",
   "execution_count": 6,
   "metadata": {},
   "outputs": [],
   "source": [
    "# Calculated the number of passengers based on season and per year\n",
    "\n",
    "_2004_passengers = _2004_df[[\"Season\", \"Passengers\"]].groupby(\"Season\").sum()\n",
    "_2005_passengers = _2005_df[[\"Season\", \"Passengers\"]].groupby(\"Season\").sum()\n",
    "_2006_passengers = _2006_df[[\"Season\", \"Passengers\"]].groupby(\"Season\").sum()\n",
    "_2007_passengers = _2007_df[[\"Season\", \"Passengers\"]].groupby(\"Season\").sum()\n",
    "_2008_passengers = _2008_df[[\"Season\", \"Passengers\"]].groupby(\"Season\").sum()\n",
    "_2009_passengers = _2009_df[[\"Season\", \"Passengers\"]].groupby(\"Season\").sum()\n",
    "\n",
    "\n",
    "\n"
   ]
  },
  {
   "cell_type": "code",
   "execution_count": 26,
   "metadata": {},
   "outputs": [
    {
     "name": "stderr",
     "output_type": "stream",
     "text": [
      "C:\\Users\\ahoff\\AppData\\Local\\Temp\\ipykernel_77032\\2168920918.py:21: UserWarning: FixedFormatter should only be used together with FixedLocator\n",
      "  plt.gca().set_yticklabels(['{:,.0f}'.format(x / 1000000) for x in current_values])\n"
     ]
    },
    {
     "data": {
      "image/png": "[encoded data removed]",
      "text/plain": [
       "<Figure size 1000x800 with 1 Axes>"
      ]
     },
     "metadata": {},
     "output_type": "display_data"
    }
   ],
   "source": [
    "# Plot the data to show the number of passengers per season, per year. \n",
    "\n",
    "x = np.arange(4)\n",
    "width = 0.1\n",
    "\n",
    "plt.figure(figsize=(10, 8))\n",
    "plt.bar(x-0.3, _2004_passengers[\"Passengers\"], width)\n",
    "plt.bar(x-0.2, _2005_passengers[\"Passengers\"], width)\n",
    "plt.bar(x-0.1, _2006_passengers[\"Passengers\"], width)\n",
    "plt.bar(x, _2007_passengers[\"Passengers\"], width)\n",
    "plt.bar(x+0.1, _2008_passengers[\"Passengers\"], width)\n",
    "plt.bar(x+0.2, _2009_passengers[\"Passengers\"], width)\n",
    "plt.ylim(100000000, 170000000)\n",
    "plt.yticks(fontweight = 'bold', fontsize = 12)\n",
    "plt.xticks(x, [\"Spring\", \"Summer\", \"Fall\", \"Winter\"], fontweight = 'bold', fontsize = 14)\n",
    "plt.xlabel(\"Seasons\", fontweight = 'bold', fontsize = 16)\n",
    "plt.ylabel(\"Number of Passengers in Millions\", fontweight = 'bold', fontsize = 16)\n",
    "plt.legend([\"2004\", \"2005\", \"2006\", \"2007\", \"2008\", \"2009\"], loc='upper right')\n",
    "plt.title(\"Seasonal Air Travel\", fontweight = 'bold', fontsize = 22)\n",
    "current_values = plt.gca().get_yticks()\n",
    "plt.gca().set_yticklabels(['{:,.0f}'.format(x / 1000000) for x in current_values])\n",
    "plt.show()"
   ]
  }
 ],
 "metadata": {
  "kernelspec": {
   "display_name": "base",
   "language": "python",
   "name": "python3"
  },
  "language_info": {
   "codemirror_mode": {
    "name": "ipython",
    "version": 3
   },
   "file_extension": ".py",
   "mimetype": "text/x-python",
   "name": "python",
   "nbconvert_exporter": "python",
   "pygments_lexer": "ipython3",
   "version": "3.11.4"
  }
 },
 "nbformat": 4,
 "nbformat_minor": 2
}
